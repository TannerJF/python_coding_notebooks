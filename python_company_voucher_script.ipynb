{
 "cells": [
  {
   "cell_type": "code",
   "execution_count": 1,
   "id": "e924a37a",
   "metadata": {},
   "outputs": [],
   "source": [
    "################\n",
    "# VOUCHER CODE #\n",
    "################\n",
    "\n",
    "#in this, we are tasked to generate a voucher for employees from the company for compensation#\n",
    "#it is for the holidays of christmas, veteran's day, and indemendence day, as well as birthdays#\n",
    "#when the birthdays and holidays fall in the same month one combined voucher should be produced#\n",
    "\n",
    "def find_out_employee_info(emp_cnt=1):\n",
    "    employee_information={}\n",
    "    for i in range(emp_cnt): #allows for receiving multiple employees#\n",
    "        key=input(\"Enter Employee Name: \")\n",
    "        value=input(\"Enter Employee Date of Birth\\n Enter mm/dd/yyyy Format: \")\n",
    "        employee_information[key]=value\n",
    "    return employee_information\n",
    "\n",
    "from datetime import datetime\n",
    "\n",
    "def get_current_month(): #gets current month to use as a default#\n",
    "    current_month=datetime.now().month\n",
    "    return current_month\n",
    "\n",
    "def make_voucher(employee_information,target_month=0): #receives employee information. \n",
    "                                                       #Can also change month to fit need#\n",
    "    holiday_dict={\"Christmas\":(\"12/25\",150),\n",
    "                  \"Veteran's Day\":(\"11/11\",100),\n",
    "                  \"Independence Day\":(\"07/04\",50)}    \n",
    "    if target_month==0:\n",
    "        target_month=get_current_month()  #defaults to current month function when \n",
    "                                          #no information entered in make_voucher#\n",
    "    for employee in employee_information.keys(): \n",
    "        birthday=employee_information.get(employee) #using .get to return birthday \n",
    "                                                    #and .split to break it down#\n",
    "        month_number=int(birthday.split(\"/\")[0])\n",
    "        is_birthday_month=month_number==target_month #checks if the birthday month \n",
    "                                                     #is the month in question#\n",
    "        is_holiday_month=False\n",
    "        for holiday in holiday_dict.keys(): #checks holiday list for date \n",
    "                                            #and checks against month input#\n",
    "            holiday_date=holiday_dict.get(holiday)[0]\n",
    "            holiday_month_number=int(holiday_date.split(\"/\")[0])\n",
    "            if target_month==holiday_month_number: \n",
    "                current_holiday=holiday\n",
    "                is_holiday_month=True  #changes holiday month check to true#\n",
    "        if is_birthday_month and is_holiday_month: #printing different vouchers based \n",
    "                                                   #on holiday/birthday and adding the \n",
    "                                                   #value listed in the holiday dictionary#\n",
    "                    \n",
    "    #see next line for full text of each voucher#\n",
    "            print(f\"Dear {employee},\\n Wishing you a happy Birthday and {current_holiday}!\\n For your Birthday and {current_holiday}, we are offering you a gift voucher valued ${100+holiday_dict.get(current_holiday)[1]}.\")\n",
    "        elif is_birthday_month:\n",
    "            print(f\"Dear {employee},\\n Wishing you a happy Birthday!\\n For your Birthday, we are offering you a gift voucher valued $100.\")\n",
    "        elif is_holiday_month:\n",
    "            print(f\"Dear {employee},\\n Wishing you a happy {current_holiday}!\\n For this {current_holiday} season, we are offering you a gift voucher valued ${holiday_dict.get(current_holiday)[1]}.\")\n",
    "        else:\n",
    "            print(f\"Sorry, {employee}, we have no voucher available.\")"
   ]
  },
  {
   "cell_type": "code",
   "execution_count": null,
   "id": "c43292b3",
   "metadata": {},
   "outputs": [],
   "source": [
    "#FOR FULL TEXT OF EACH PRINT VOUCHER CODE#\n",
    "\n",
    "#if is_birthday_month and is_holiday_month:\n",
    "    #print(f\"Dear {employee},\\n Wishing you a happy Birthday and {current_holiday}!\n",
    "           #\\n For your Birthday and {current_holiday}, we are offering you a gift voucher valued \n",
    "           #${100+holiday_dict.get(current_holiday)[1]}.\")\n",
    "            \n",
    "#elif is_birthday_month:\n",
    "    #print(f\"Dear {employee},\\n Wishing you a happy Birthday!\n",
    "    #\\n For your Birthday, we are offering you a gift voucher valued $100.\")\n",
    "    \n",
    "#elif is_holiday_month:\n",
    "    #print(f\"Dear {employee},\\n Wishing you a happy {current_holiday}!\n",
    "    #\\n For this {current_holiday} season, we are offering you a gift voucher valued \n",
    "    #${holiday_dict.get(current_holiday)[1]}.\")\n",
    "    \n",
    "#else:\n",
    "    #print(f\"Sorry, {employee}, we have no voucher available.\")"
   ]
  },
  {
   "cell_type": "code",
   "execution_count": 2,
   "id": "690301c8",
   "metadata": {},
   "outputs": [],
   "source": [
    "#################\n",
    "# EMPLOYEE LIST #\n",
    "#################\n",
    "\n",
    "#fictional employee data for testing purposes#\n",
    "\n",
    "employee_details = {\"Rick John\":\"12/20/1980\",\n",
    "                    \"Justin Lake\":\"04/13/1989\", \"Tom Jones\":\"07/22/1992\", \"Sara James\":\"01/22/1989\", \"Jenny Smith\":\"11/30/1977\"}"
   ]
  },
  {
   "cell_type": "code",
   "execution_count": 3,
   "id": "1bc8ca4f",
   "metadata": {},
   "outputs": [
    {
     "name": "stdout",
     "output_type": "stream",
     "text": [
      "Enter Employee Name: Tanner Forks\n",
      "Enter Employee Date of Birth\n",
      " Enter mm/dd/yyyy Format: 08/01/1989\n",
      "Sorry, Tanner Forks, we have no voucher available.\n"
     ]
    }
   ],
   "source": [
    "#using modular function to input custom name and DOB#\n",
    "\n",
    "who_are_you=find_out_employee_info(1)\n",
    "make_voucher(who_are_you)"
   ]
  },
  {
   "cell_type": "code",
   "execution_count": 8,
   "id": "c275eb7e",
   "metadata": {},
   "outputs": [
    {
     "name": "stdout",
     "output_type": "stream",
     "text": [
      "Sorry, Rick John, we have no voucher available.\n",
      "Sorry, Justin Lake, we have no voucher available.\n",
      "Sorry, Tom Jones, we have no voucher available.\n",
      "Sorry, Sara James, we have no voucher available.\n",
      "Sorry, Jenny Smith, we have no voucher available.\n"
     ]
    }
   ],
   "source": [
    "#using employee list given#\n",
    "\n",
    "make_voucher(employee_details)"
   ]
  },
  {
   "cell_type": "code",
   "execution_count": null,
   "id": "72f154a7",
   "metadata": {},
   "outputs": [],
   "source": []
  }
 ],
 "metadata": {
  "kernelspec": {
   "display_name": "Python 3 (ipykernel)",
   "language": "python",
   "name": "python3"
  },
  "language_info": {
   "codemirror_mode": {
    "name": "ipython",
    "version": 3
   },
   "file_extension": ".py",
   "mimetype": "text/x-python",
   "name": "python",
   "nbconvert_exporter": "python",
   "pygments_lexer": "ipython3",
   "version": "3.9.13"
  }
 },
 "nbformat": 4,
 "nbformat_minor": 5
}
